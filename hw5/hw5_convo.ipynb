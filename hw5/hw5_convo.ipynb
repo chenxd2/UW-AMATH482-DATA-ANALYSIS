{
 "cells": [
  {
   "cell_type": "code",
   "execution_count": 1,
   "metadata": {},
   "outputs": [],
   "source": [
    "# import packages\n",
    "import numpy as np\n",
    "import tensorflow as tf\n",
    "import matplotlib.pyplot as plt\n",
    "import pandas as pd\n",
    "from sklearn.metrics import confusion_matrix"
   ]
  },
  {
   "cell_type": "code",
   "execution_count": 2,
   "metadata": {},
   "outputs": [],
   "source": [
    "fashion_mnist = tf.keras.datasets.fashion_mnist\n",
    "(X_train_full, y_train_full), (X_test, y_test) = fashion_mnist.load_data()"
   ]
  },
  {
   "cell_type": "code",
   "execution_count": 3,
   "metadata": {},
   "outputs": [],
   "source": [
    "# construct validation set\n",
    "X_valid = X_train_full[:5000] / 255.0\n",
    "X_train = X_train_full[5000:] / 255.0\n",
    "X_test = X_test / 255.0\n",
    "\n",
    "y_valid = y_train_full[:5000]\n",
    "y_train = y_train_full[5000:]\n",
    "\n",
    "X_train = X_train[..., np.newaxis]\n",
    "X_valid = X_valid[..., np.newaxis]\n",
    "X_test = X_test[..., np.newaxis]"
   ]
  },
  {
   "cell_type": "code",
   "execution_count": 17,
   "metadata": {},
   "outputs": [],
   "source": [
    "from functools import partial\n",
    "\n",
    "my_dense_layer = partial(tf.keras.layers.Dense, activation=\"relu\", kernel_regularizer=tf.keras.regularizers.l2(0.0001))\n",
    "my_conv_layer = partial(tf.keras.layers.Conv2D, activation=\"relu\", padding=\"same\")\n",
    "\n",
    "model = tf.keras.models.Sequential([\n",
    "    my_conv_layer(32,3,input_shape=[28,28,1]),\n",
    "    tf.keras.layers.MaxPooling2D(2),\n",
    "    my_conv_layer(64,3),\n",
    "    tf.keras.layers.MaxPooling2D(2),\n",
    "    tf.keras.layers.Flatten(),\n",
    "    my_dense_layer(256),\n",
    "    my_dense_layer(10, activation=\"softmax\")\n",
    "])"
   ]
  },
  {
   "cell_type": "code",
   "execution_count": 18,
   "metadata": {},
   "outputs": [],
   "source": [
    "model.compile(loss=\"sparse_categorical_crossentropy\",\n",
    "             optimizer=tf.keras.optimizers.Adam(learning_rate=0.001),\n",
    "             metrics=[\"accuracy\"])"
   ]
  },
  {
   "cell_type": "code",
   "execution_count": 19,
   "metadata": {},
   "outputs": [
    {
     "name": "stdout",
     "output_type": "stream",
     "text": [
      "Train on 55000 samples, validate on 5000 samples\n",
      "Epoch 1/5\n",
      "55000/55000 [==============================] - 48s 868us/sample - loss: 0.4490 - accuracy: 0.8535 - val_loss: 0.3584 - val_accuracy: 0.8898\n",
      "Epoch 2/5\n",
      "55000/55000 [==============================] - 48s 873us/sample - loss: 0.3210 - accuracy: 0.9011 - val_loss: 0.3216 - val_accuracy: 0.9016\n",
      "Epoch 3/5\n",
      "55000/55000 [==============================] - 43s 786us/sample - loss: 0.2866 - accuracy: 0.9156 - val_loss: 0.2865 - val_accuracy: 0.9190\n",
      "Epoch 4/5\n",
      "55000/55000 [==============================] - 45s 819us/sample - loss: 0.2673 - accuracy: 0.9228 - val_loss: 0.2795 - val_accuracy: 0.9198\n",
      "Epoch 5/5\n",
      "55000/55000 [==============================] - 43s 783us/sample - loss: 0.2475 - accuracy: 0.9308 - val_loss: 0.2628 - val_accuracy: 0.9248\n"
     ]
    }
   ],
   "source": [
    "history = model.fit(X_train, y_train, epochs=5, validation_data=(X_valid,y_valid))"
   ]
  },
  {
   "cell_type": "code",
   "execution_count": 28,
   "metadata": {},
   "outputs": [],
   "source": [
    "from functools import partial\n",
    "\n",
    "my_dense_layer = partial(tf.keras.layers.Dense, activation=\"tanh\", kernel_regularizer=tf.keras.regularizers.l2(0.0001))\n",
    "my_conv_layer = partial(tf.keras.layers.Conv2D, activation=\"tanh\", padding=\"valid\")\n",
    "\n",
    "model = tf.keras.models.Sequential([\n",
    "    my_conv_layer(6,5,padding=\"same\",input_shape=[28,28,1]),\n",
    "    tf.keras.layers.AveragePooling2D(2),\n",
    "    my_conv_layer(16,5),\n",
    "    tf.keras.layers.AveragePooling2D(2),\n",
    "    my_conv_layer(120,5),\n",
    "    tf.keras.layers.Flatten(),\n",
    "    my_dense_layer(84),\n",
    "    my_dense_layer(10, activation=\"softmax\")\n",
    "])\n"
   ]
  },
  {
   "cell_type": "code",
   "execution_count": 30,
   "metadata": {},
   "outputs": [
    {
     "name": "stdout",
     "output_type": "stream",
     "text": [
      "Train on 55000 samples, validate on 5000 samples\n",
      "Epoch 1/5\n",
      "55000/55000 [==============================] - 22s 395us/sample - loss: 0.5367 - accuracy: 0.8098 - val_loss: 0.4006 - val_accuracy: 0.8622\n",
      "Epoch 2/5\n",
      "55000/55000 [==============================] - 20s 371us/sample - loss: 0.3936 - accuracy: 0.8607 - val_loss: 0.3551 - val_accuracy: 0.8772\n",
      "Epoch 3/5\n",
      "55000/55000 [==============================] - 24s 429us/sample - loss: 0.3515 - accuracy: 0.8769 - val_loss: 0.3597 - val_accuracy: 0.8718\n",
      "Epoch 4/5\n",
      "55000/55000 [==============================] - 21s 390us/sample - loss: 0.3264 - accuracy: 0.8858 - val_loss: 0.3253 - val_accuracy: 0.8852\n",
      "Epoch 5/5\n",
      "55000/55000 [==============================] - 21s 384us/sample - loss: 0.3081 - accuracy: 0.8933 - val_loss: 0.3168 - val_accuracy: 0.8930\n"
     ]
    }
   ],
   "source": [
    "model.compile(loss=\"sparse_categorical_crossentropy\",\n",
    "             optimizer=tf.keras.optimizers.Adam(learning_rate=0.001),\n",
    "             metrics=[\"accuracy\"])\n",
    "history = model.fit(X_train, y_train, epochs=5, validation_data=(X_valid,y_valid))"
   ]
  },
  {
   "cell_type": "code",
   "execution_count": 20,
   "metadata": {},
   "outputs": [
    {
     "data": {
      "image/png": "[encoded data removed]",
      "text/plain": [
       "<Figure size 576x360 with 1 Axes>"
      ]
     },
     "metadata": {
      "needs_background": "light"
     },
     "output_type": "display_data"
    }
   ],
   "source": [
    "pd.DataFrame(history.history).plot(figsize=(8,5))\n",
    "plt.grid(True)\n",
    "plt.gca().set_ylim(0,1)\n",
    "plt.show()"
   ]
  },
  {
   "cell_type": "code",
   "execution_count": 21,
   "metadata": {},
   "outputs": [
    {
     "name": "stdout",
     "output_type": "stream",
     "text": [
      "[[5119    0   52   65    7    2  297    0    1    0]\n",
      " [   0 5358    1   74    6    2    1    0    2    0]\n",
      " [  75    0 5123   33  148    0  117    0    0    0]\n",
      " [  52    1   20 5322   61    0   43    0    0    0]\n",
      " [   5    2  295  114 4946    1  149    0    0    0]\n",
      " [   0    0    0    0    0 5493    0   10    0    4]\n",
      " [ 387    1  263   93  172    0 4588    0    3    0]\n",
      " [   0    0    0    0    0   29    0 5386    0   73]\n",
      " [  14    0    3    4   11    9   12    0 5456    1]\n",
      " [   0    0    0    0    0   61    0  129    0 5304]]\n"
     ]
    }
   ],
   "source": [
    "y_pred = model.predict_classes(X_train)\n",
    "conf_train = confusion_matrix(y_train, y_pred)\n",
    "print(conf_train)"
   ]
  },
  {
   "cell_type": "code",
   "execution_count": 22,
   "metadata": {},
   "outputs": [
    {
     "name": "stdout",
     "output_type": "stream",
     "text": [
      "10000/10000 [==============================] - 2s 184us/sample - loss: 0.2914 - accuracy: 0.9183\n"
     ]
    },
    {
     "data": {
      "text/plain": [
       "[0.29137071001529696, 0.9183]"
      ]
     },
     "execution_count": 22,
     "metadata": {},
     "output_type": "execute_result"
    }
   ],
   "source": [
    "model.evaluate(X_test,y_test) "
   ]
  },
  {
   "cell_type": "code",
   "execution_count": 24,
   "metadata": {},
   "outputs": [
    {
     "data": {
      "image/png": "[encoded data removed]",
      "text/plain": [
       "<Figure size 432x288 with 1 Axes>"
      ]
     },
     "metadata": {
      "needs_background": "light"
     },
     "output_type": "display_data"
    }
   ],
   "source": [
    "y_pred = model.predict_classes(X_test)\n",
    "conf_test = confusion_matrix(y_test, y_pred)\n",
    "\n",
    "fig, ax = plt.subplots()\n",
    "\n",
    "# hide axes\n",
    "fig.patch.set_visible(False)\n",
    "ax.axis('off')\n",
    "ax.axis('tight')\n",
    "\n",
    "# create table and save to file\n",
    "df = pd.DataFrame(conf_test)\n",
    "ax.table(cellText=df.values, rowLabels=np.arange(10), colLabels=np.arange(10), loc='center', cellLoc='center')\n",
    "fig.tight_layout()\n",
    "plt.savefig('conf_mat.pdf')"
   ]
  },
  {
   "cell_type": "code",
   "execution_count": null,
   "metadata": {},
   "outputs": [],
   "source": []
  }
 ],
 "metadata": {
  "kernelspec": {
   "display_name": "Python 3",
   "language": "python",
   "name": "python3"
  },
  "language_info": {
   "codemirror_mode": {
    "name": "ipython",
    "version": 3
   },
   "file_extension": ".py",
   "mimetype": "text/x-python",
   "name": "python",
   "nbconvert_exporter": "python",
   "pygments_lexer": "ipython3",
   "version": "3.6.10"
  }
 },
 "nbformat": 4,
 "nbformat_minor": 4
}
